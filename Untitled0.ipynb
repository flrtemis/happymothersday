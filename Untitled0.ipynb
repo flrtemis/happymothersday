{
  "nbformat": 4,
  "nbformat_minor": 0,
  "metadata": {
    "colab": {
      "provenance": [],
      "authorship_tag": "ABX9TyMqwa6Ya8LibWUOOcZ5+vjs",
      "include_colab_link": true
    },
    "kernelspec": {
      "name": "python3",
      "display_name": "Python 3"
    },
    "language_info": {
      "name": "python"
    }
  },
  "cells": [
    {
      "cell_type": "markdown",
      "metadata": {
        "id": "view-in-github",
        "colab_type": "text"
      },
      "source": [
        "<a href=\"https://colab.research.google.com/github/flrtemis/happymothersday/blob/main/Untitled0.ipynb\" target=\"_parent\"><img src=\"https://colab.research.google.com/assets/colab-badge.svg\" alt=\"Open In Colab\"/></a>"
      ]
    },
    {
      "cell_type": "code",
      "execution_count": 37,
      "metadata": {
        "collapsed": true,
        "id": "CBqsZwW70LaT"
      },
      "outputs": [],
      "source": [
        "# 1️⃣ Install kokoro\n",
        "!pip install -q kokoro>=0.9.4 soundfile pydub\n",
        "# 2️⃣ Install espeak, used for English OOD fallback and some non-English languages\n",
        "!apt-get -qq -y install espeak-ng ffmpeg > /dev/null 2>&1  # ffmpeg needed for pydub\n",
        "\n",
        "# 3️⃣ Initalize a pipeline\n",
        "from kokoro import KPipeline\n",
        "from IPython.display import display, Audio\n",
        "import soundfile as sf\n",
        "import torch\n",
        "from pydub import AudioSegment  # <== Added for merging\n",
        "\n",
        "# 🇺🇸 'a' => American English en\n",
        "# 🇬🇧 'b' => British English en-GB\n",
        "# 🇪🇸 'e' => Spanish es\n",
        "# 🇫🇷 'f' => French fr-fr\n",
        "# 🇮🇳 'h' => Hindi hi\n",
        "# 🇮🇹 'i' => Italian it\n",
        "# 🇯🇵 'j' => Japanese: pip install misaki[ja]\n",
        "# 🇧🇷 'p' => Brazilian Portuguese pt-br\n",
        "# 🇨🇳 'z' => Mandarin Chinese: pip install misaki[zh]\n",
        "pipeline = KPipeline(lang_code='b')  # <= make sure lang_code matches voice, reference above.\n",
        "\n",
        "# This text is for demonstration purposes only, unseen during training\n",
        "text = '''\n",
        "Okay. I think everything's setup right. I hope. Uh. Bell? Can you hear me?\n",
        "Yep. I can hear you, Emma. (). (). George?\n",
        "Yep, loud and clear! Lewis. You’re on standby if anything fucks up. Right?\n",
        "Fuck off, George. Emma. Why's George always doubt my abilities?\n",
        "Lewis, honey. Breathe. George. . Calm down, Lewis knows what he's doing.\n",
        "'''.strip()\n",
        "\n",
        "# 4️⃣ Generate, display, and save audio files in a loop.\n",
        "voices = ['bf_emma', 'bf_isabella', 'bm_george', 'bm_lewis']\n",
        "lines = text.split('\\n')  # split text by each line (not blank lines)\n",
        "output_files = []\n",
        "\n",
        "for i, line in enumerate(lines):\n",
        "    voice = voices[i % len(voices)]  # rotate voices\n",
        "    generator = pipeline(\n",
        "        line, voice=voice,\n",
        "        speed=1, split_pattern=r'$^'  # no internal splitting\n",
        "    )\n",
        "    gs, ps, audio = next(generator)\n",
        "    print(i)      # i => index\n",
        "    print(gs)     # gs => graphemes/text\n",
        "    print(ps)     # ps => phonemes\n",
        "    display(Audio(data=audio, rate=24000, autoplay=i==0))\n",
        "\n",
        "    filename = f'{i}_{voice}.wav'\n",
        "    sf.write(filename, audio, 24000)  # save each line/voice combo\n",
        "    output_files.append(filename)\n",
        "\n",
        "# 🔊 Merge all audio files into one\n",
        "merged = AudioSegment.empty()\n",
        "for filename in output_files:\n",
        "    merged += AudioSegment.from_wav(filename)\n",
        "\n",
        "merged.export(\"final_output.wav\", format=\"wav\")\n",
        "print(\"✅ Merged audio saved as: final_output.wav\")\n",
        "display(Audio(\"final_output.wav\", autoplay=True))"
      ]
    }
  ]
}